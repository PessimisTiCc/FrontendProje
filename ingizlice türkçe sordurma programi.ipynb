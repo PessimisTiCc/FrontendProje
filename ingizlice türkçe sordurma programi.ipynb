import random

# İngilizce ve Türkçe kelime çiftleri
word_pairs = {
    "apple": "elma",
    "banana": "muz",
    "orange": "portakal",
    "strawberry": "çilek",
    "grape": "üzüm",
    # Diğer kelime çiftlerini buraya ekleyebilirsiniz
}

english_words = list(word_pairs.keys())

while True:
    # Rastgele bir İngilizce kelime seçme
    english_word = random.choice(english_words)
    english_words.remove(english_word)  # Aynı kelimenin tekrar seçilmesini engelleme

    # Rastgele seçilen kelimenin Türkçe çevirisini alın
    correct_translation = word_pairs[english_word]

    user_translation = input(f"What is the Turkish translation of '{english_word}'? (Type 'skip' to skip or 'exit' to quit) ")

    if user_translation.lower() == "exit":
        break
    elif user_translation.lower() == "skip":
        continue
    elif user_translation.lower() == correct_translation:
        print("Correct! You guessed the translation correctly.")
    else:
        print(f"Sorry, the correct translation of '{english_word}' is '{correct_translation}'.")

    if not english_words:
        print("All words have been used.")
        break




