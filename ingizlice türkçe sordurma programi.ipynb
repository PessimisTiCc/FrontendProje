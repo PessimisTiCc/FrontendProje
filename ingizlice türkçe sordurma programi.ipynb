{
  "nbformat": 4,
  "nbformat_minor": 0,
  "metadata": {
    "colab": {
      "provenance": [],
      "authorship_tag": "ABX9TyMXmQ4LhxIhI/RcQLTFjjSX",
      "include_colab_link": true
    },
    "kernelspec": {
      "name": "python3",
      "display_name": "Python 3"
    },
    "language_info": {
      "name": "python"
    }
  },
  "cells": [
    {
      "cell_type": "markdown",
      "metadata": {
        "id": "view-in-github",
        "colab_type": "text"
      },
      "source": [
        "<a href=\"https://colab.research.google.com/github/tariktalha/FrontendProje/blob/main/ingizlice%20t%C3%BCrk%C3%A7e%20sordurma%20programi.ipynb\" target=\"_parent\"><img src=\"https://colab.research.google.com/assets/colab-badge.svg\" alt=\"Open In Colab\"/></a>"
      ]
    },
    {
      "cell_type": "code",
      "execution_count": 39,
      "metadata": {
        "colab": {
          "base_uri": "https://localhost:8080/"
        },
        "id": "fwHrtwxUgY9v",
        "outputId": "4df056e3-d936-4c92-9e8b-b9a31b64fa9d"
      },
      "outputs": [
        {
          "output_type": "stream",
          "name": "stdout",
          "text": [
            "What is the Turkish translation of 'banana'? (Type 'skip' to skip or 'exit' to quit) muz\n",
            "Correct! You guessed the translation correctly.\n",
            "What is the Turkish translation of 'orange'? (Type 'skip' to skip or 'exit' to quit) portakal\n",
            "Correct! You guessed the translation correctly.\n",
            "What is the Turkish translation of 'grape'? (Type 'skip' to skip or 'exit' to quit) üzüm\n",
            "Correct! You guessed the translation correctly.\n",
            "What is the Turkish translation of 'strawberry'? (Type 'skip' to skip or 'exit' to quit) a\n",
            "Sorry, the correct translation of 'strawberry' is 'çilek'.\n",
            "What is the Turkish translation of 'apple'? (Type 'skip' to skip or 'exit' to quit) ELMA\n",
            "Correct! You guessed the translation correctly.\n",
            "All words have been used.\n"
          ]
        }
      ],
      "source": [
        "import random\n",
        "\n",
        "# İngilizce ve Türkçe kelime çiftleri\n",
        "word_pairs = {\n",
        "    \"apple\": \"elma\",\n",
        "    \"banana\": \"muz\",\n",
        "    \"orange\": \"portakal\",\n",
        "    \"strawberry\": \"çilek\",\n",
        "    \"grape\": \"üzüm\",\n",
        "    # Diğer kelime çiftlerini buraya ekleyebilirsiniz\n",
        "}\n",
        "\n",
        "english_words = list(word_pairs.keys())\n",
        "\n",
        "while True:\n",
        "    # Rastgele bir İngilizce kelime seçme\n",
        "    english_word = random.choice(english_words)\n",
        "    english_words.remove(english_word)  # Aynı kelimenin tekrar seçilmesini engelleme\n",
        "\n",
        "    # Rastgele seçilen kelimenin Türkçe çevirisini alın\n",
        "    correct_translation = word_pairs[english_word]\n",
        "\n",
        "    user_translation = input(f\"What is the Turkish translation of '{english_word}'? (Type 'skip' to skip or 'exit' to quit) \")\n",
        "\n",
        "    if user_translation.lower() == \"exit\":\n",
        "        break\n",
        "    elif user_translation.lower() == \"skip\":\n",
        "        continue\n",
        "    elif user_translation.lower() == correct_translation:\n",
        "        print(\"Correct! You guessed the translation correctly.\")\n",
        "    else:\n",
        "        print(f\"Sorry, the correct translation of '{english_word}' is '{correct_translation}'.\")\n",
        "\n",
        "    if not english_words:\n",
        "        print(\"All words have been used.\")\n",
        "        break\n",
        "\n",
        "\n",
        "\n",
        "\n"
      ]
    },
    {
      "cell_type": "code",
      "source": [],
      "metadata": {
        "id": "gDsvL4Mmgk2y"
      },
      "execution_count": null,
      "outputs": []
    }
  ]
}